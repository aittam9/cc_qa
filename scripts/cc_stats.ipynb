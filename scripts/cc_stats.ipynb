{
 "cells": [
  {
   "cell_type": "code",
   "execution_count": 1,
   "metadata": {},
   "outputs": [],
   "source": [
    "import os\n",
    "import re \n",
    "\n",
    "from utils import SpecialTokenizer, num_tokens_from_string, get_arts_dict_clean\n",
    "\n",
    "from tqdm import tqdm\n",
    "import tiktoken\n",
    "\n",
    "from collections import Counter"
   ]
  },
  {
   "cell_type": "code",
   "execution_count": 25,
   "metadata": {},
   "outputs": [],
   "source": [
    "tokenizer = SpecialTokenizer()"
   ]
  },
  {
   "cell_type": "code",
   "execution_count": 6,
   "metadata": {},
   "outputs": [],
   "source": [
    "def get_arts_dict_clean(file_path):  \n",
    "    art_regex = re.compile(r\"(\\nArt.*\\n)\")\n",
    "    raw_text = open(file_path, \"r\").read()\n",
    "    raw_text1 = re.sub(\"\\n\\n\\n\", \"\\n\\n\", raw_text)\n",
    "    raw_text1 = re.sub(r\"(\\nCapo|\\nCAPO|Titolo|Sezione|Libro|\\nIndice|§)(.+\\n)?\", \"\", raw_text)\n",
    "    raw_text1 = re.sub(r\"(Art|Artt)\\..+ \\((abrogat(o|i)|omissis)\\)\", \"\", raw_text1)\n",
    "    raw_text1 = re.sub(r\"\\(.*abrogat.*\\)\\.\", \"\", raw_text1)\n",
    "    \n",
    "    titles = re.findall(art_regex, raw_text1)\n",
    "    bodies = re.sub(art_regex, \"ART_TITLE\\n\", raw_text1).split(\"ART_TITLE\\n\")\n",
    "    titles = [t.strip() for t in titles]\n",
    "    bodies = [b.strip() for b in bodies[1:]]\n",
    "    #bodies = [re.sub(r\"\\[Art.* abrogat(o|i).*\\n\\]\", \"\", b) for b in bodies]\n",
    "    bodies = [re.sub(r\"(\\[.*Art.*\\])(.*\\n)\", \"\", b) for b in bodies]\n",
    "    \n",
    "    arts_final = dict(zip(titles, bodies))\n",
    "    assert len(titles) == len(bodies), \"Something went wrong\"\n",
    "    return arts_final"
   ]
  },
  {
   "cell_type": "code",
   "execution_count": 7,
   "metadata": {},
   "outputs": [
    {
     "name": "stdout",
     "output_type": "stream",
     "text": [
      "Found 395 available articles for cc_libro_I.txt\n",
      "Found 345 available articles for cc_libro_II.txt\n",
      "Found 359 available articles for cc_libro_III.txt\n",
      "Found 888 available articles for cc_libro_IV.txt\n",
      "Found 627 available articles for cc_libro_V.txt\n",
      "Found 322 available articles for cc_libro_VI.txt\n"
     ]
    }
   ],
   "source": [
    "CC_BOOKS_DIR = \"./cc\"\n",
    "cc_books_arts = []\n",
    "big_dic = {}\n",
    "for book in os.listdir(CC_BOOKS_DIR):\n",
    "    name = book.replace(\".txt\", \"\")\n",
    "    arts = get_arts_dict_clean(os.path.join(CC_BOOKS_DIR, book))\n",
    "    print(f\"Found {len(arts)} available articles for {book}\")\n",
    "    cc_books_arts.append(arts)\n",
    "    big_dic[name] = arts"
   ]
  },
  {
   "cell_type": "code",
   "execution_count": 8,
   "metadata": {},
   "outputs": [],
   "source": [
    "import json \n",
    "with open(\"cc_books_clean_whole2.json\", \"w\") as outfile:\n",
    "    json.dump(big_dic, outfile, indent = 1)\n"
   ]
  },
  {
   "cell_type": "code",
   "execution_count": 9,
   "metadata": {},
   "outputs": [
    {
     "data": {
      "text/plain": [
       "'Le Province e i Comuni, nonché gli enti pubblici riconosciuti come persone giuridiche, godono dei diritti secondo le leggi e gli usi osservati come diritto pubblico (824  e seguenti).\\n\\n\\n Articolo abrogato dall’art. 11, D.P.R del 10 febbraio 2000, n. 361. Il precedente testo recitava:\"Le associazioni, le fondazioni e le altre istituzioni di carattere privato acquistano la personalità giuridica mediante il riconoscimento concesso con decreto del Presidente della Repubblica. Per determinate categorie di enti che esercitano la loro attività nell’ambito della Provincia, il Governo può delegare ai prefetti la facoltà di riconoscerli con loro decreto\"'"
      ]
     },
     "execution_count": 9,
     "metadata": {},
     "output_type": "execute_result"
    }
   ],
   "source": [
    "cc_books_arts[0][\"Art. 11 Persone giuridiche pubbliche\"]"
   ]
  },
  {
   "cell_type": "code",
   "execution_count": 12,
   "metadata": {},
   "outputs": [
    {
     "data": {
      "text/plain": [
       "'Le Province e i Comuni, nonché gli enti pubblici riconosciuti come persone giuridiche, godono dei diritti secondo le leggi e gli usi osservati come diritto pubblico (824  e seguenti).\\n\\n\\n Articolo abrogato dall’art. 11, D.P.R del 10 febbraio 2000, n. 361. Il precedente testo recitava:\"Le associazioni, le fondazioni e le altre istituzioni di carattere privato acquistano la personalità giuridica mediante il riconoscimento concesso con decreto del Presidente della Repubblica. Per determinate categorie di enti che esercitano la loro attività nell’ambito della Provincia, il Governo può delegare ai prefetti la facoltà di riconoscerli con loro decreto\"'"
      ]
     },
     "execution_count": 12,
     "metadata": {},
     "output_type": "execute_result"
    }
   ],
   "source": [
    "re.sub(r\"(\\[.*Art.*\\]).*\\n\", \"\",cc_books_arts[0][\"Art. 11 Persone giuridiche pubbliche\"])"
   ]
  },
  {
   "cell_type": "code",
   "execution_count": 41,
   "metadata": {},
   "outputs": [
    {
     "data": {
      "text/plain": [
       "'La capacità giuridica si acquista dal momento della nascita.\\nI diritti che la legge riconosce a favore del concepito sono subordinati all’evento della nascita (462, 687, 715, 784).'"
      ]
     },
     "execution_count": 41,
     "metadata": {},
     "output_type": "execute_result"
    }
   ],
   "source": [
    "cc_books_arts[0][\"Art. 1 Capacità giuridica\"]"
   ]
  },
  {
   "cell_type": "code",
   "execution_count": 5,
   "metadata": {},
   "outputs": [],
   "source": [
    "# def num_tokens_from_string(string: str, encoding_name: str = \"cl100k_base\") -> int:\n",
    "#     encoding = tiktoken.get_encoding(encoding_name)\n",
    "#     num_tokens = len(encoding.encode(string))\n",
    "#     return num_tokens"
   ]
  },
  {
   "cell_type": "code",
   "execution_count": 71,
   "metadata": {},
   "outputs": [
    {
     "name": "stderr",
     "output_type": "stream",
     "text": [
      "100%|██████████| 395/395 [00:08<00:00, 45.33it/s]\n",
      "100%|██████████| 345/345 [00:06<00:00, 51.24it/s]\n",
      "100%|██████████| 359/359 [00:06<00:00, 53.14it/s]\n",
      "100%|██████████| 888/888 [00:14<00:00, 59.99it/s]\n",
      "100%|██████████| 627/627 [00:12<00:00, 48.98it/s]\n",
      "100%|██████████| 322/322 [00:06<00:00, 53.56it/s]\n"
     ]
    }
   ],
   "source": [
    "stats = {}\n",
    "book_count = 0\n",
    "sents_distro = {}\n",
    "for book in cc_books_arts:\n",
    "\n",
    "    book_count += 1\n",
    "    book_name = f\"book {book_count}\"\n",
    "    stats[book_name] = {}\n",
    "    lens = []\n",
    "    token_counts = []\n",
    "    word_counts = []\n",
    "    \n",
    "    for art in tqdm(book):\n",
    "        \n",
    "        sents = tokenizer.sentence_tokenize(book[art])\n",
    "        lens.append(len(sents))\n",
    "        token_counts.append(num_tokens_from_string(book[art]))\n",
    "        word_counts.append(len(tokenizer.word_tokenize(book[art])))\n",
    "    \n",
    "    sents_distro[book_name] = Counter(lens)\n",
    "    stats[book_name][\"N. of arts\"] = len(lens)\n",
    "    stats[book_name][\"Avg Sents Count\"] = sum(lens)/ len(lens)\n",
    "    stats[book_name][\"Avg Word Count\"] = sum(word_counts) / len(word_counts)\n",
    "    stats[book_name][\"Avg Tokens Count\"] = sum(token_counts) / len(token_counts)   \n"
   ]
  },
  {
   "cell_type": "code",
   "execution_count": 72,
   "metadata": {},
   "outputs": [
    {
     "data": {
      "text/plain": [
       "{'book 1': Counter({1: 121,\n",
       "          2: 114,\n",
       "          3: 55,\n",
       "          4: 44,\n",
       "          5: 22,\n",
       "          6: 16,\n",
       "          8: 8,\n",
       "          7: 7,\n",
       "          10: 4,\n",
       "          9: 1,\n",
       "          14: 1,\n",
       "          12: 1,\n",
       "          0: 1}),\n",
       " 'book 2': Counter({1: 117, 2: 106, 3: 57, 4: 28, 5: 18, 6: 9, 7: 7, 8: 3}),\n",
       " 'book 3': Counter({2: 110,\n",
       "          1: 97,\n",
       "          3: 80,\n",
       "          4: 32,\n",
       "          5: 20,\n",
       "          6: 8,\n",
       "          8: 4,\n",
       "          7: 3,\n",
       "          11: 1,\n",
       "          0: 1,\n",
       "          10: 1,\n",
       "          9: 1,\n",
       "          13: 1}),\n",
       " 'book 4': Counter({1: 359,\n",
       "          2: 276,\n",
       "          3: 130,\n",
       "          4: 51,\n",
       "          5: 35,\n",
       "          6: 25,\n",
       "          8: 3,\n",
       "          7: 3,\n",
       "          23: 1,\n",
       "          77: 1,\n",
       "          15: 1,\n",
       "          11: 1,\n",
       "          20: 1,\n",
       "          0: 1}),\n",
       " 'book 5': Counter({1: 179,\n",
       "          2: 155,\n",
       "          3: 111,\n",
       "          4: 59,\n",
       "          5: 32,\n",
       "          7: 21,\n",
       "          6: 20,\n",
       "          9: 10,\n",
       "          8: 9,\n",
       "          10: 8,\n",
       "          0: 6,\n",
       "          11: 5,\n",
       "          17: 2,\n",
       "          12: 2,\n",
       "          16: 1,\n",
       "          52: 1,\n",
       "          38: 1,\n",
       "          30: 1,\n",
       "          41: 1,\n",
       "          22: 1,\n",
       "          14: 1,\n",
       "          19: 1}),\n",
       " 'book 6': Counter({1: 109,\n",
       "          2: 90,\n",
       "          3: 49,\n",
       "          4: 25,\n",
       "          6: 16,\n",
       "          5: 15,\n",
       "          8: 6,\n",
       "          7: 4,\n",
       "          13: 2,\n",
       "          12: 2,\n",
       "          0: 2,\n",
       "          9: 1,\n",
       "          22: 1})}"
      ]
     },
     "execution_count": 72,
     "metadata": {},
     "output_type": "execute_result"
    }
   ],
   "source": [
    "sents_distro"
   ]
  },
  {
   "cell_type": "code",
   "execution_count": 22,
   "metadata": {},
   "outputs": [
    {
     "data": {
      "text/html": [
       "<div>\n",
       "<style scoped>\n",
       "    .dataframe tbody tr th:only-of-type {\n",
       "        vertical-align: middle;\n",
       "    }\n",
       "\n",
       "    .dataframe tbody tr th {\n",
       "        vertical-align: top;\n",
       "    }\n",
       "\n",
       "    .dataframe thead th {\n",
       "        text-align: right;\n",
       "    }\n",
       "</style>\n",
       "<table border=\"1\" class=\"dataframe\">\n",
       "  <thead>\n",
       "    <tr style=\"text-align: right;\">\n",
       "      <th></th>\n",
       "      <th>N. of arts</th>\n",
       "      <th>Avg Len. Sentences</th>\n",
       "      <th>Avg Word Count</th>\n",
       "      <th>Avg Len. Tokens</th>\n",
       "    </tr>\n",
       "  </thead>\n",
       "  <tbody>\n",
       "    <tr>\n",
       "      <th>book 1</th>\n",
       "      <td>395.0</td>\n",
       "      <td>2.751899</td>\n",
       "      <td>86.562025</td>\n",
       "      <td>135.546835</td>\n",
       "    </tr>\n",
       "    <tr>\n",
       "      <th>book 2</th>\n",
       "      <td>345.0</td>\n",
       "      <td>2.402899</td>\n",
       "      <td>73.475362</td>\n",
       "      <td>112.701449</td>\n",
       "    </tr>\n",
       "    <tr>\n",
       "      <th>book 3</th>\n",
       "      <td>359.0</td>\n",
       "      <td>2.587744</td>\n",
       "      <td>73.119777</td>\n",
       "      <td>116.169916</td>\n",
       "    </tr>\n",
       "    <tr>\n",
       "      <th>book 4</th>\n",
       "      <td>888.0</td>\n",
       "      <td>2.275901</td>\n",
       "      <td>67.853604</td>\n",
       "      <td>106.370495</td>\n",
       "    </tr>\n",
       "    <tr>\n",
       "      <th>book 5</th>\n",
       "      <td>627.0</td>\n",
       "      <td>3.309410</td>\n",
       "      <td>91.778309</td>\n",
       "      <td>148.741627</td>\n",
       "    </tr>\n",
       "    <tr>\n",
       "      <th>book 6</th>\n",
       "      <td>322.0</td>\n",
       "      <td>2.683230</td>\n",
       "      <td>87.204969</td>\n",
       "      <td>140.736025</td>\n",
       "    </tr>\n",
       "  </tbody>\n",
       "</table>\n",
       "</div>"
      ],
      "text/plain": [
       "        N. of arts  Avg Len. Sentences  Avg Word Count  Avg Len. Tokens\n",
       "book 1       395.0            2.751899       86.562025       135.546835\n",
       "book 2       345.0            2.402899       73.475362       112.701449\n",
       "book 3       359.0            2.587744       73.119777       116.169916\n",
       "book 4       888.0            2.275901       67.853604       106.370495\n",
       "book 5       627.0            3.309410       91.778309       148.741627\n",
       "book 6       322.0            2.683230       87.204969       140.736025"
      ]
     },
     "execution_count": 22,
     "metadata": {},
     "output_type": "execute_result"
    }
   ],
   "source": [
    "import pandas as pd\n",
    "pd.DataFrame(stats).T"
   ]
  },
  {
   "cell_type": "code",
   "execution_count": 94,
   "metadata": {},
   "outputs": [
    {
     "data": {
      "text/plain": [
       "dict_values([114, 44, 121, 55, 16, 7, 22, 1, 4, 8, 1, 1, 1])"
      ]
     },
     "execution_count": 94,
     "metadata": {},
     "output_type": "execute_result"
    }
   ],
   "source": [
    "sents_distro[\"book 1\"].values()"
   ]
  },
  {
   "cell_type": "code",
   "execution_count": 97,
   "metadata": {},
   "outputs": [
    {
     "ename": "AttributeError",
     "evalue": "'numpy.ndarray' object has no attribute 'set_ylim'",
     "output_type": "error",
     "traceback": [
      "\u001b[1;31m---------------------------------------------------------------------------\u001b[0m",
      "\u001b[1;31mAttributeError\u001b[0m                            Traceback (most recent call last)",
      "Cell \u001b[1;32mIn[97], line 7\u001b[0m\n\u001b[0;32m      5\u001b[0m axes\u001b[38;5;241m.\u001b[39mflatten()\n\u001b[0;32m      6\u001b[0m \u001b[38;5;28;01mfor\u001b[39;00m n, book \u001b[38;5;129;01min\u001b[39;00m \u001b[38;5;28menumerate\u001b[39m(sents_distro):\n\u001b[1;32m----> 7\u001b[0m     \u001b[43maxes\u001b[49m\u001b[43m[\u001b[49m\u001b[43mn\u001b[49m\u001b[43m]\u001b[49m\u001b[38;5;241;43m.\u001b[39;49m\u001b[43mset_ylim\u001b[49m()\n\u001b[0;32m      8\u001b[0m     axes[n] \u001b[38;5;241m=\u001b[39m plt\u001b[38;5;241m.\u001b[39mhist(sents_distro[book])\n",
      "\u001b[1;31mAttributeError\u001b[0m: 'numpy.ndarray' object has no attribute 'set_ylim'"
     ]
    },
    {
     "data": {
      "image/png": "[encoded data removed]",
      "text/plain": [
       "<Figure size 640x480 with 9 Axes>"
      ]
     },
     "metadata": {},
     "output_type": "display_data"
    },
    {
     "ename": "",
     "evalue": "",
     "output_type": "error",
     "traceback": [
      "\u001b[1;31mThe Kernel crashed while executing code in the current cell or a previous cell. \n",
      "\u001b[1;31mPlease review the code in the cell(s) to identify a possible cause of the failure. \n",
      "\u001b[1;31mClick <a href='https://aka.ms/vscodeJupyterKernelCrash'>here</a> for more info. \n",
      "\u001b[1;31mView Jupyter <a href='command:jupyter.viewOutput'>log</a> for further details."
     ]
    }
   ],
   "source": [
    "#TODO ditstibution of sentences for each book\n",
    "import matplotlib.pyplot as plt\n"
   ]
  }
 ],
 "metadata": {
  "kernelspec": {
   "display_name": "base",
   "language": "python",
   "name": "python3"
  },
  "language_info": {
   "codemirror_mode": {
    "name": "ipython",
    "version": 3
   },
   "file_extension": ".py",
   "mimetype": "text/x-python",
   "name": "python",
   "nbconvert_exporter": "python",
   "pygments_lexer": "ipython3",
   "version": "3.12.4"
  }
 },
 "nbformat": 4,
 "nbformat_minor": 2
}
