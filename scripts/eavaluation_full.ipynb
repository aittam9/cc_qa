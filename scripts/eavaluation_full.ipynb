{
 "cells": [
  {
   "cell_type": "code",
   "execution_count": 1,
   "metadata": {},
   "outputs": [],
   "source": [
    "import os \n",
    "import re \n",
    "import pandas as pd\n",
    "from tqdm import tqdm\n",
    "from collections import Counter\n",
    "from utils import get_completion, num_tokens_from_string, compute_token_price\n",
    "import pickle"
   ]
  },
  {
   "cell_type": "code",
   "execution_count": 2,
   "metadata": {},
   "outputs": [],
   "source": [
    "with open(\"../qa_results/all_qa_dfs.pkl\", \"rb\") as infile:\n",
    "    dfs = pickle.load(infile)"
   ]
  },
  {
   "cell_type": "code",
   "execution_count": 3,
   "metadata": {},
   "outputs": [
    {
     "name": "stdout",
     "output_type": "stream",
     "text": [
      "315 queries contains ' secondo il testo?' to be removed\n"
     ]
    }
   ],
   "source": [
    "count = 0\n",
    "for e,i in enumerate(dfs):\n",
    "    for p in dfs[e][\"Query\"].tolist():\n",
    "        if re.search(r\" secondo il testo\\?\", p):\n",
    "            count+=1\n",
    "print(f\"{count} queries contains ' secondo il testo?' to be removed\")"
   ]
  },
  {
   "cell_type": "code",
   "execution_count": null,
   "metadata": {},
   "outputs": [],
   "source": [
    "#get rid of \"secondo il testo?\"\n",
    "# for e,i in enumerate(dfs):\n",
    "#     dfs[e][\"Query\"] = dfs[e][\"Query\"].apply(lambda x: re.sub(r\" secondo il testo\\?\", r\"\\?\", x)) "
   ]
  },
  {
   "cell_type": "code",
   "execution_count": 5,
   "metadata": {},
   "outputs": [
    {
     "name": "stdout",
     "output_type": "stream",
     "text": [
      "###Instruction###\n",
      "Sei un esperto in giurisprudenza. Di seguito ti verranno mostrati un testoe una domanda.\n",
      "Il tuo compito è stabilire se la risposta alla domanda è contenuta nel testo.\n",
      "Puoi utilizzare solo i seguenti due OUTPUT validi: [\"SI\", \"NO\"].\n",
      "L'OUTPUT è \"SI\" se la la risposta alla domanda è contenuta nel testo.\n",
      "L'OUTPUT \"NO\" se la risposta alla domanda non è contenuta nel testo.\n",
      "Per poter dire \"SI\" la risposta alla domanda deve essere strettamente e chiaramente nel testo.\n",
      "Restituisci solamente \"SI\" o \"NO\" e null'altro.\n",
      "\n",
      "\n",
      "###TESTO###\n",
      "{text}\n",
      "\n",
      "###DOMANDA###\n",
      "{query}\n",
      "\n",
      "OUTPUT: \n"
     ]
    }
   ],
   "source": [
    "evaluation_prompt = open(\"../prompts/eval_prompt.txt\", \"r\").read()\n",
    "print(evaluation_prompt)"
   ]
  },
  {
   "cell_type": "code",
   "execution_count": 7,
   "metadata": {},
   "outputs": [
    {
     "name": "stdout",
     "output_type": "stream",
     "text": [
      "Processing qas of book_1\n"
     ]
    },
    {
     "name": "stderr",
     "output_type": "stream",
     "text": [
      "1115it [11:29,  1.62it/s]\n"
     ]
    },
    {
     "name": "stdout",
     "output_type": "stream",
     "text": [
      "Results for book 1: Counter({'SI': 736, 'NO': 376, 'Dal giorno del suo ritorno nel luogo in cui è nato il figlio o in cui è la residenza familiare se egli ne era lontano.': 1, 'Il figlio o il genitore o convivente che maltratta o abusa del minore possono essere allontanati dalla residenza familiare.': 1, 'uno dei genitori, se idoneo all’ufficio, o in mancanza, altra persona': 1})\n",
      "\n",
      "Saved df for book1\n",
      "Processing qas of book_2\n"
     ]
    },
    {
     "name": "stderr",
     "output_type": "stream",
     "text": [
      "874it [08:50,  1.65it/s]\n"
     ]
    },
    {
     "name": "stdout",
     "output_type": "stream",
     "text": [
      "Results for book 2: Counter({'SI': 606, 'NO': 265, 'Chiunque vi ha interesse': 1, 'Chiunque crede di avervi interesse': 1, 'Il coerede che conferisce un immobile in natura può ritenerne il possesso sino all’effettivo rimborso delle somme che gli sono dovute per spese e miglioramenti.\\n\\nSI': 1})\n",
      "\n",
      "Saved df for book2\n",
      "Processing qas of book_3\n"
     ]
    },
    {
     "name": "stderr",
     "output_type": "stream",
     "text": [
      "949it [09:35,  1.65it/s]\n"
     ]
    },
    {
     "name": "stdout",
     "output_type": "stream",
     "text": [
      "Results for book 3: Counter({'SI': 621, 'NO': 328})\n",
      "\n",
      "Saved df for book3\n",
      "Processing qas of book_4\n"
     ]
    },
    {
     "name": "stderr",
     "output_type": "stream",
     "text": [
      "2116it [21:56,  1.61it/s]\n"
     ]
    },
    {
     "name": "stdout",
     "output_type": "stream",
     "text": [
      "Results for book 4: Counter({'SI': 1414, 'NO': 698, 'Un’accettazione non conforme alla proposta equivale a nuova proposta. \\n\\nQuindi, la risposta alla domanda è contenuta nel testo.\\n\\nSI': 1, 'Il termine di preavviso può essere sostituito dal pagamento di una corrispondente indennità.': 1, 'Il sequestratario non può consentire locazioni per durata superiore a quella stabilita per le locazioni a tempo indeterminato.': 1, 'l’equivalente, oppure la restituzione e un’indennità per la diminuzione di valore': 1})\n",
      "\n",
      "Saved df for book4\n",
      "Processing qas of book_5\n"
     ]
    },
    {
     "name": "stderr",
     "output_type": "stream",
     "text": [
      "2132it [22:16,  1.60it/s]\n"
     ]
    },
    {
     "name": "stdout",
     "output_type": "stream",
     "text": [
      "Results for book 5: Counter({'SI': 1464, 'NO': 664, 'Il rischio delle cose conferite in godimento resta a carico del socio che le ha conferite.': 1, 'Presso l’ufficio del registro in cui è iscritta la sede secondaria deve essere altresì depositata la firma autografa del rappresentante preposto all’esercizio della sede medesima. \\n\\nQuindi, la risposta è: \\n\\nSI': 1, 'Al momento della sottoscrizione.': 1, 'partecipazioni in imprese controllate; partecipazioni in imprese collegate; partecipazioni in imprese controllanti; altre partecipazioni': 1})\n",
      "\n",
      "Saved df for book5\n",
      "Processing qas of book_6\n"
     ]
    },
    {
     "name": "stderr",
     "output_type": "stream",
     "text": [
      "890it [10:45,  1.38it/s]"
     ]
    },
    {
     "name": "stdout",
     "output_type": "stream",
     "text": [
      "Results for book 6: Counter({'SI': 538, 'NO': 351, 'nel domicilio eletto': 1})\n",
      "\n",
      "Saved df for book6\n"
     ]
    },
    {
     "name": "stderr",
     "output_type": "stream",
     "text": [
      "\n"
     ]
    }
   ],
   "source": [
    "eval_dfs = []\n",
    "for n,book in enumerate(dfs, 1):\n",
    "    print(f\"Processing qas of book_{n}\")\n",
    "    answ = []\n",
    "    for row in tqdm(book.itertuples()):\n",
    "        query = re.sub(\" secondo il testo?\", \"\", row.Query[2:]).strip()\n",
    "        passage = row.Passage.strip()\n",
    "        prompt =  re.sub(r\"\\{query\\}\", query, re.sub(r\"\\{text\\}\", passage, evaluation_prompt))\n",
    "        answ.append(re.sub(r\"\\\"\", \"\", get_completion(prompt, \"gpt-4o\")).strip())\n",
    "        \n",
    "    \n",
    "    print(f\"Results for book {n}: {Counter(answ)}\\n\")\n",
    "    \n",
    "    #Build and save a df for each book\n",
    "    book[\"IsQueryRelevant\"] = answ\n",
    "    eval_dfs.append(book)\n",
    "    book.to_csv(f\"../automatic_eval_results/autoeval_qabook_{n}.tsv\", sep = \"\\t\")\n",
    "    print(f\"Saved df for book{n}\")\n",
    "\n",
    "\n",
    "    "
   ]
  },
  {
   "cell_type": "code",
   "execution_count": null,
   "metadata": {},
   "outputs": [],
   "source": [
    "# #save a binary file for all evaluated dfs\n",
    "# with open(\"../automatic_eval_results/all_autoeval_dfs.pkl\", \"wb\") as outfile:\n",
    "#     pickle.dump(eval_dfs, outfile)"
   ]
  },
  {
   "cell_type": "code",
   "execution_count": 40,
   "metadata": {},
   "outputs": [
    {
     "name": "stdout",
     "output_type": "stream",
     "text": [
      "Stat for book 1\n",
      "The ratio betweween generated outputs and inputs is 2.844\n",
      "Queries judged as coherent 66.0%\n",
      "Number of failed answers: 3\n",
      "\n",
      "-----------------------------------------------------\n",
      "Stat for book 2\n",
      "The ratio betweween generated outputs and inputs is 2.533\n",
      "Queries judged as coherent 69.3%\n",
      "Number of failed answers: 3\n",
      "\n",
      "-----------------------------------------------------\n",
      "Stat for book 3\n",
      "The ratio betweween generated outputs and inputs is 2.643\n",
      "Queries judged as coherent 65.4%\n",
      "Number of failed answers: 0\n",
      "\n",
      "-----------------------------------------------------\n",
      "Stat for book 4\n",
      "The ratio betweween generated outputs and inputs is 2.383\n",
      "Queries judged as coherent 66.8%\n",
      "Number of failed answers: 4\n",
      "\n",
      "-----------------------------------------------------\n",
      "Stat for book 5\n",
      "The ratio betweween generated outputs and inputs is 3.422\n",
      "Queries judged as coherent 68.7%\n",
      "Number of failed answers: 4\n",
      "\n",
      "-----------------------------------------------------\n",
      "Stat for book 6\n",
      "The ratio betweween generated outputs and inputs is 2.781\n",
      "Queries judged as coherent 60.4%\n",
      "Number of failed answers: 1\n",
      "\n",
      "-----------------------------------------------------\n"
     ]
    }
   ],
   "source": [
    "\n",
    "for n,d in enumerate(dfs,1):\n",
    "    io_ratio = d[\"Articolo di riferimento\"].shape[0] / d[\"Articolo di riferimento\"].unique().shape[0] \n",
    "    co_queries = d[d[\"IsQueryRelevant\"] == \"SI\"].shape[0]/d.shape[0]\n",
    "    failed_answ = len([i for i in d[\"IsQueryRelevant\"].tolist() if i not in [\"SI\", \"NO\"]])\n",
    "    \n",
    "    print(f\"Stat for book {n}\")\n",
    "    print(f\"The ratio betweween generated outputs and inputs is {round(io_ratio, 3)}\")\n",
    "    print(f\"Queries judged as coherent {round(co_queries,3)*100}%\")\n",
    "    print(f\"Number of failed answers: {failed_answ}\\n\\n-----------------------------------------------------\")\n"
   ]
  }
 ],
 "metadata": {
  "kernelspec": {
   "display_name": "cc_dataset",
   "language": "python",
   "name": "python3"
  },
  "language_info": {
   "codemirror_mode": {
    "name": "ipython",
    "version": 3
   },
   "file_extension": ".py",
   "mimetype": "text/x-python",
   "name": "python",
   "nbconvert_exporter": "python",
   "pygments_lexer": "ipython3",
   "version": "3.12.4"
  }
 },
 "nbformat": 4,
 "nbformat_minor": 2
}
