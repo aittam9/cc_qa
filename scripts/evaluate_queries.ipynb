{
 "cells": [
  {
   "cell_type": "code",
   "execution_count": 13,
   "metadata": {},
   "outputs": [],
   "source": [
    "import os \n",
    "import re \n",
    "import pandas as pd\n",
    "from tqdm import tqdm\n",
    "from collections import Counter\n",
    "from utils import get_completion, num_tokens_from_string, compute_token_price"
   ]
  },
  {
   "cell_type": "code",
   "execution_count": 2,
   "metadata": {},
   "outputs": [
    {
     "data": {
      "text/html": [
       "<div>\n",
       "<style scoped>\n",
       "    .dataframe tbody tr th:only-of-type {\n",
       "        vertical-align: middle;\n",
       "    }\n",
       "\n",
       "    .dataframe tbody tr th {\n",
       "        vertical-align: top;\n",
       "    }\n",
       "\n",
       "    .dataframe thead th {\n",
       "        text-align: right;\n",
       "    }\n",
       "</style>\n",
       "<table border=\"1\" class=\"dataframe\">\n",
       "  <thead>\n",
       "    <tr style=\"text-align: right;\">\n",
       "      <th></th>\n",
       "      <th>Articolo di riferimento</th>\n",
       "      <th>Query</th>\n",
       "      <th>Passage</th>\n",
       "    </tr>\n",
       "  </thead>\n",
       "  <tbody>\n",
       "    <tr>\n",
       "      <th>0</th>\n",
       "      <td>Art. 1 Capacità giuridica</td>\n",
       "      <td>1. Quando si acquisisce la capacità giuridica ...</td>\n",
       "      <td>La capacità giuridica si acquista dal momento ...</td>\n",
       "    </tr>\n",
       "    <tr>\n",
       "      <th>1</th>\n",
       "      <td>Art. 1 Capacità giuridica</td>\n",
       "      <td>2. A quale condizione sono subordinati i dirit...</td>\n",
       "      <td>La capacità giuridica si acquista dal momento ...</td>\n",
       "    </tr>\n",
       "    <tr>\n",
       "      <th>2</th>\n",
       "      <td>Art. 2 Maggiore età. Capacità di agire</td>\n",
       "      <td>1. A quale età si acquisisce la maggiore età s...</td>\n",
       "      <td>La maggiore età è fissata al compimento del di...</td>\n",
       "    </tr>\n",
       "    <tr>\n",
       "      <th>3</th>\n",
       "      <td>Art. 2 Maggiore età. Capacità di agire</td>\n",
       "      <td>2. Quali atti può compiere una persona al ragg...</td>\n",
       "      <td>La maggiore età è fissata al compimento del di...</td>\n",
       "    </tr>\n",
       "    <tr>\n",
       "      <th>4</th>\n",
       "      <td>Art. 2 Maggiore età. Capacità di agire</td>\n",
       "      <td>3. Esistono leggi speciali che stabiliscono un...</td>\n",
       "      <td>La maggiore età è fissata al compimento del di...</td>\n",
       "    </tr>\n",
       "  </tbody>\n",
       "</table>\n",
       "</div>"
      ],
      "text/plain": [
       "                  Articolo di riferimento  \\\n",
       "0               Art. 1 Capacità giuridica   \n",
       "1               Art. 1 Capacità giuridica   \n",
       "2  Art. 2 Maggiore età. Capacità di agire   \n",
       "3  Art. 2 Maggiore età. Capacità di agire   \n",
       "4  Art. 2 Maggiore età. Capacità di agire   \n",
       "\n",
       "                                               Query  \\\n",
       "0  1. Quando si acquisisce la capacità giuridica ...   \n",
       "1  2. A quale condizione sono subordinati i dirit...   \n",
       "2  1. A quale età si acquisisce la maggiore età s...   \n",
       "3  2. Quali atti può compiere una persona al ragg...   \n",
       "4  3. Esistono leggi speciali che stabiliscono un...   \n",
       "\n",
       "                                             Passage  \n",
       "0  La capacità giuridica si acquista dal momento ...  \n",
       "1  La capacità giuridica si acquista dal momento ...  \n",
       "2  La maggiore età è fissata al compimento del di...  \n",
       "3  La maggiore età è fissata al compimento del di...  \n",
       "4  La maggiore età è fissata al compimento del di...  "
      ]
     },
     "execution_count": 2,
     "metadata": {},
     "output_type": "execute_result"
    }
   ],
   "source": [
    "data2evaluate = pd.read_csv(\"./cc_book1_qa2.tsv\", sep = \"\\t\")\n",
    "data2evaluate.head()"
   ]
  },
  {
   "cell_type": "code",
   "execution_count": 14,
   "metadata": {},
   "outputs": [],
   "source": [
    "pssg_query_list = data2evaluate[[\"Query\",\"Passage\"]].to_records(index = False).tolist()\n",
    "pssg_query_list = \" \".join([\" \".join(i) for i in pssg_query_list])"
   ]
  },
  {
   "cell_type": "code",
   "execution_count": 16,
   "metadata": {},
   "outputs": [
    {
     "data": {
      "text/plain": [
       "11.41245"
      ]
     },
     "execution_count": 16,
     "metadata": {},
     "output_type": "execute_result"
    }
   ],
   "source": [
    "num_tokens_from_string(pssg_query_list) * 5e-05"
   ]
  },
  {
   "cell_type": "code",
   "execution_count": 3,
   "metadata": {},
   "outputs": [],
   "source": [
    "evaluation_prompt = \"\"\"###Instruction###\n",
    "Sei un esperto in giurisprudenza. Di seguito ti verranno mostrati un testo\n",
    "e una domanda. Il tuo compito è stabilire se la risposta alla domanda è contenuta nel testo.\n",
    "Puoi utilizzare solo i seguenti due OUTPUT validi: [\"SI\", \"NO\"].\n",
    "L'OUTPUT è \"SI\" se la la risposta alla domanda è contenuta nel testo.\n",
    "L'OUTPUT \"NO\" se la risposta alla domanda non è contenuta nel testo.\n",
    "Per poter dire \"SI\" la risposta alla domanda deve essere strettamente e chiaramente nel testo.\n",
    "Restituisci solamente \"SI\" o \"NO\" e null'altro.\n",
    "\n",
    "\n",
    "###TESTO###\n",
    "{text}\n",
    "\n",
    "###DOMANDA###\n",
    "{query}\n",
    "\n",
    "OUTPUT: \"\"\""
   ]
  },
  {
   "cell_type": "code",
   "execution_count": 18,
   "metadata": {},
   "outputs": [
    {
     "data": {
      "text/plain": [
       "0.9644750000000001"
      ]
     },
     "execution_count": 18,
     "metadata": {},
     "output_type": "execute_result"
    }
   ],
   "source": [
    "(num_tokens_from_string(evaluation_prompt)* data2evaluate.shape[0]) * 5e-06 "
   ]
  },
  {
   "cell_type": "code",
   "execution_count": 23,
   "metadata": {},
   "outputs": [
    {
     "data": {
      "text/plain": [
       "'###Instruction###\\nSei un esperto in giurisprudenza. Di seguito ti verranno mostrati un testo\\ne una domanda. Il tuo compito è stabilire se la risposta alla domanda è contenuta nel testo.\\nPuoi utilizzare solo due label: [\"SI\", \"NO\"].\\nL\\'OUTPUT è \"SI\" se la la risposta alla domanda è contenuta nel testo.\\nL\\'OUTPUT \"NO\" se la risposta alla domanda non è contenuta nel testo.\\nPer poter dire \"SI\" la risposta alla domanda deve essere strettamente e chiaramente nel testo.\\nRestituisci solamente \"SI\" o \"NO\" e null\\'altro.\\n\\n\\n###TESTO###\\nioio\\n\\n###DOMANDA###\\niaia\\n\\nOUTPUT: '"
      ]
     },
     "execution_count": 23,
     "metadata": {},
     "output_type": "execute_result"
    }
   ],
   "source": [
    "re.sub(r\"\\{query\\}\", \"iaia\", re.sub(r\"\\{text\\}\", \"ioio\", evaluation_prompt))"
   ]
  },
  {
   "cell_type": "code",
   "execution_count": 4,
   "metadata": {},
   "outputs": [
    {
     "data": {
      "text/plain": [
       "(1115, 3)"
      ]
     },
     "execution_count": 4,
     "metadata": {},
     "output_type": "execute_result"
    }
   ],
   "source": [
    "data2evaluate.shape"
   ]
  },
  {
   "cell_type": "code",
   "execution_count": null,
   "metadata": {},
   "outputs": [
    {
     "name": "stderr",
     "output_type": "stream",
     "text": [
      "500it [04:20,  1.92it/s]\n"
     ]
    }
   ],
   "source": [
    "#trial \n",
    "answ = []\n",
    "for row in tqdm(data2evaluate[:500].itertuples()):\n",
    "    query = re.sub(\" secondo il testo?\", \"\", row.Query[2:]).strip()\n",
    "    passage = row.Passage.strip()\n",
    "    \n",
    "    prompt =  re.sub(r\"\\{query\\}\", query, re.sub(r\"\\{text\\}\", passage, evaluation_prompt))\n",
    "    answ.append(get_completion(prompt, \"gpt-4o\"))\n"
   ]
  },
  {
   "cell_type": "code",
   "execution_count": null,
   "metadata": {},
   "outputs": [
    {
     "data": {
      "text/plain": [
       "Counter({'SI': 409, 'NO': 91})"
      ]
     },
     "execution_count": 55,
     "metadata": {},
     "output_type": "execute_result"
    }
   ],
   "source": [
    "Counter(answ)"
   ]
  },
  {
   "cell_type": "code",
   "execution_count": 56,
   "metadata": {},
   "outputs": [
    {
     "name": "stderr",
     "output_type": "stream",
     "text": [
      "C:\\Users\\user\\AppData\\Local\\Temp\\ipykernel_16300\\2126568384.py:2: SettingWithCopyWarning: \n",
      "A value is trying to be set on a copy of a slice from a DataFrame.\n",
      "Try using .loc[row_indexer,col_indexer] = value instead\n",
      "\n",
      "See the caveats in the documentation: https://pandas.pydata.org/pandas-docs/stable/user_guide/indexing.html#returning-a-view-versus-a-copy\n",
      "  evaluate_df[\"IsQueryRelevant\"] = answ\n"
     ]
    },
    {
     "data": {
      "text/html": [
       "<div>\n",
       "<style scoped>\n",
       "    .dataframe tbody tr th:only-of-type {\n",
       "        vertical-align: middle;\n",
       "    }\n",
       "\n",
       "    .dataframe tbody tr th {\n",
       "        vertical-align: top;\n",
       "    }\n",
       "\n",
       "    .dataframe thead th {\n",
       "        text-align: right;\n",
       "    }\n",
       "</style>\n",
       "<table border=\"1\" class=\"dataframe\">\n",
       "  <thead>\n",
       "    <tr style=\"text-align: right;\">\n",
       "      <th></th>\n",
       "      <th>Articolo di riferimento</th>\n",
       "      <th>Query</th>\n",
       "      <th>Passage</th>\n",
       "      <th>IsQueryRelevant</th>\n",
       "    </tr>\n",
       "  </thead>\n",
       "  <tbody>\n",
       "    <tr>\n",
       "      <th>0</th>\n",
       "      <td>Art. 1 Capacità giuridica</td>\n",
       "      <td>1. Quando si acquisisce la capacità giuridica ...</td>\n",
       "      <td>La capacità giuridica si acquista dal momento ...</td>\n",
       "      <td>SI</td>\n",
       "    </tr>\n",
       "    <tr>\n",
       "      <th>1</th>\n",
       "      <td>Art. 1 Capacità giuridica</td>\n",
       "      <td>2. A quale condizione sono subordinati i dirit...</td>\n",
       "      <td>La capacità giuridica si acquista dal momento ...</td>\n",
       "      <td>SI</td>\n",
       "    </tr>\n",
       "    <tr>\n",
       "      <th>2</th>\n",
       "      <td>Art. 2 Maggiore età. Capacità di agire</td>\n",
       "      <td>1. A quale età si acquisisce la maggiore età s...</td>\n",
       "      <td>La maggiore età è fissata al compimento del di...</td>\n",
       "      <td>SI</td>\n",
       "    </tr>\n",
       "    <tr>\n",
       "      <th>3</th>\n",
       "      <td>Art. 2 Maggiore età. Capacità di agire</td>\n",
       "      <td>2. Quali atti può compiere una persona al ragg...</td>\n",
       "      <td>La maggiore età è fissata al compimento del di...</td>\n",
       "      <td>NO</td>\n",
       "    </tr>\n",
       "    <tr>\n",
       "      <th>4</th>\n",
       "      <td>Art. 2 Maggiore età. Capacità di agire</td>\n",
       "      <td>3. Esistono leggi speciali che stabiliscono un...</td>\n",
       "      <td>La maggiore età è fissata al compimento del di...</td>\n",
       "      <td>SI</td>\n",
       "    </tr>\n",
       "    <tr>\n",
       "      <th>...</th>\n",
       "      <td>...</td>\n",
       "      <td>...</td>\n",
       "      <td>...</td>\n",
       "      <td>...</td>\n",
       "    </tr>\n",
       "    <tr>\n",
       "      <th>495</th>\n",
       "      <td>Art. 191 Scioglimento della comunione</td>\n",
       "      <td>2. In che modo può essere deciso lo scioglimen...</td>\n",
       "      <td>La comunione si scioglie per la dichiarazione ...</td>\n",
       "      <td>SI</td>\n",
       "    </tr>\n",
       "    <tr>\n",
       "      <th>496</th>\n",
       "      <td>Art. 192 Rimborsi e restituzioni</td>\n",
       "      <td>1. Quali somme devono essere rimborsate alla c...</td>\n",
       "      <td>Ciascuno dei coniugi è tenuto a rimborsare all...</td>\n",
       "      <td>SI</td>\n",
       "    </tr>\n",
       "    <tr>\n",
       "      <th>497</th>\n",
       "      <td>Art. 192 Rimborsi e restituzioni</td>\n",
       "      <td>2. In quali circostanze un coniuge è tenuto a ...</td>\n",
       "      <td>Ciascuno dei coniugi è tenuto a rimborsare all...</td>\n",
       "      <td>SI</td>\n",
       "    </tr>\n",
       "    <tr>\n",
       "      <th>498</th>\n",
       "      <td>Art. 192 Rimborsi e restituzioni</td>\n",
       "      <td>3. Quali condizioni devono essere soddisfatte ...</td>\n",
       "      <td>Ciascuno dei coniugi è tenuto a rimborsare all...</td>\n",
       "      <td>SI</td>\n",
       "    </tr>\n",
       "    <tr>\n",
       "      <th>499</th>\n",
       "      <td>Art. 192 Rimborsi e restituzioni</td>\n",
       "      <td>4. Quando ciascuno dei coniugi può richiedere ...</td>\n",
       "      <td>Ciascuno dei coniugi è tenuto a rimborsare all...</td>\n",
       "      <td>SI</td>\n",
       "    </tr>\n",
       "  </tbody>\n",
       "</table>\n",
       "<p>500 rows × 4 columns</p>\n",
       "</div>"
      ],
      "text/plain": [
       "                    Articolo di riferimento  \\\n",
       "0                 Art. 1 Capacità giuridica   \n",
       "1                 Art. 1 Capacità giuridica   \n",
       "2    Art. 2 Maggiore età. Capacità di agire   \n",
       "3    Art. 2 Maggiore età. Capacità di agire   \n",
       "4    Art. 2 Maggiore età. Capacità di agire   \n",
       "..                                      ...   \n",
       "495   Art. 191 Scioglimento della comunione   \n",
       "496        Art. 192 Rimborsi e restituzioni   \n",
       "497        Art. 192 Rimborsi e restituzioni   \n",
       "498        Art. 192 Rimborsi e restituzioni   \n",
       "499        Art. 192 Rimborsi e restituzioni   \n",
       "\n",
       "                                                 Query  \\\n",
       "0    1. Quando si acquisisce la capacità giuridica ...   \n",
       "1    2. A quale condizione sono subordinati i dirit...   \n",
       "2    1. A quale età si acquisisce la maggiore età s...   \n",
       "3    2. Quali atti può compiere una persona al ragg...   \n",
       "4    3. Esistono leggi speciali che stabiliscono un...   \n",
       "..                                                 ...   \n",
       "495  2. In che modo può essere deciso lo scioglimen...   \n",
       "496  1. Quali somme devono essere rimborsate alla c...   \n",
       "497  2. In quali circostanze un coniuge è tenuto a ...   \n",
       "498  3. Quali condizioni devono essere soddisfatte ...   \n",
       "499  4. Quando ciascuno dei coniugi può richiedere ...   \n",
       "\n",
       "                                               Passage IsQueryRelevant  \n",
       "0    La capacità giuridica si acquista dal momento ...              SI  \n",
       "1    La capacità giuridica si acquista dal momento ...              SI  \n",
       "2    La maggiore età è fissata al compimento del di...              SI  \n",
       "3    La maggiore età è fissata al compimento del di...              NO  \n",
       "4    La maggiore età è fissata al compimento del di...              SI  \n",
       "..                                                 ...             ...  \n",
       "495  La comunione si scioglie per la dichiarazione ...              SI  \n",
       "496  Ciascuno dei coniugi è tenuto a rimborsare all...              SI  \n",
       "497  Ciascuno dei coniugi è tenuto a rimborsare all...              SI  \n",
       "498  Ciascuno dei coniugi è tenuto a rimborsare all...              SI  \n",
       "499  Ciascuno dei coniugi è tenuto a rimborsare all...              SI  \n",
       "\n",
       "[500 rows x 4 columns]"
      ]
     },
     "execution_count": 56,
     "metadata": {},
     "output_type": "execute_result"
    }
   ],
   "source": [
    "evaluate_df = data2evaluate[:500]\n",
    "evaluate_df[\"IsQueryRelevant\"] = answ\n",
    "evaluate_df"
   ]
  },
  {
   "cell_type": "code",
   "execution_count": 58,
   "metadata": {},
   "outputs": [],
   "source": [
    "# evaluate_df.to_csv(\"evaluation_df_book1_trial500q.tsv\", sep = \"\\t\")"
   ]
  },
  {
   "cell_type": "markdown",
   "metadata": {},
   "source": [
    "----\n",
    "# Second Half"
   ]
  },
  {
   "cell_type": "code",
   "execution_count": 12,
   "metadata": {},
   "outputs": [
    {
     "name": "stderr",
     "output_type": "stream",
     "text": [
      "0it [00:00, ?it/s]"
     ]
    },
    {
     "name": "stderr",
     "output_type": "stream",
     "text": [
      "615it [06:07,  1.68it/s]\n"
     ]
    }
   ],
   "source": [
    "#trial \n",
    "answ = []\n",
    "for row in tqdm(data2evaluate[500:].itertuples()):\n",
    "    query = re.sub(\" secondo il testo?\", \"\", row.Query[2:]).strip()\n",
    "    passage = row.Passage.strip()\n",
    "    \n",
    "    prompt =  re.sub(r\"\\{query\\}\", query, re.sub(r\"\\{text\\}\", passage, evaluation_prompt))\n",
    "    answ.append(get_completion(prompt, \"gpt-4o\")) \n",
    "\n"
   ]
  },
  {
   "cell_type": "code",
   "execution_count": 23,
   "metadata": {},
   "outputs": [],
   "source": [
    "answ2 = list(map(lambda x : re.sub(r\"\\\"\", \"\", x).strip(), answ))"
   ]
  },
  {
   "cell_type": "code",
   "execution_count": 24,
   "metadata": {},
   "outputs": [
    {
     "data": {
      "text/plain": [
       "Counter({'SI': 473, 'NO': 142})"
      ]
     },
     "execution_count": 24,
     "metadata": {},
     "output_type": "execute_result"
    }
   ],
   "source": [
    "Counter(answ2)"
   ]
  },
  {
   "cell_type": "code",
   "execution_count": 35,
   "metadata": {},
   "outputs": [
    {
     "name": "stderr",
     "output_type": "stream",
     "text": [
      "C:\\Users\\user\\AppData\\Local\\Temp\\ipykernel_25304\\816839947.py:2: SettingWithCopyWarning: \n",
      "A value is trying to be set on a copy of a slice from a DataFrame.\n",
      "Try using .loc[row_indexer,col_indexer] = value instead\n",
      "\n",
      "See the caveats in the documentation: https://pandas.pydata.org/pandas-docs/stable/user_guide/indexing.html#returning-a-view-versus-a-copy\n",
      "  evaluate_df[\"IsQueryRelevant\"] = answ2\n"
     ]
    },
    {
     "data": {
      "text/html": [
       "<div>\n",
       "<style scoped>\n",
       "    .dataframe tbody tr th:only-of-type {\n",
       "        vertical-align: middle;\n",
       "    }\n",
       "\n",
       "    .dataframe tbody tr th {\n",
       "        vertical-align: top;\n",
       "    }\n",
       "\n",
       "    .dataframe thead th {\n",
       "        text-align: right;\n",
       "    }\n",
       "</style>\n",
       "<table border=\"1\" class=\"dataframe\">\n",
       "  <thead>\n",
       "    <tr style=\"text-align: right;\">\n",
       "      <th></th>\n",
       "      <th>Articolo di riferimento</th>\n",
       "      <th>Query</th>\n",
       "      <th>Passage</th>\n",
       "      <th>IsQueryRelevant</th>\n",
       "    </tr>\n",
       "  </thead>\n",
       "  <tbody>\n",
       "    <tr>\n",
       "      <th>500</th>\n",
       "      <td>Art. 192 Rimborsi e restituzioni</td>\n",
       "      <td>5. In quale momento si effettuano i rimborsi e...</td>\n",
       "      <td>Ciascuno dei coniugi è tenuto a rimborsare all...</td>\n",
       "      <td>SI</td>\n",
       "    </tr>\n",
       "    <tr>\n",
       "      <th>501</th>\n",
       "      <td>Art. 192 Rimborsi e restituzioni</td>\n",
       "      <td>6. In quali circostanze il giudice può autoriz...</td>\n",
       "      <td>Ciascuno dei coniugi è tenuto a rimborsare all...</td>\n",
       "      <td>SI</td>\n",
       "    </tr>\n",
       "    <tr>\n",
       "      <th>502</th>\n",
       "      <td>Art. 192 Rimborsi e restituzioni</td>\n",
       "      <td>7. Quali beni può prelevare il coniuge credito...</td>\n",
       "      <td>Ciascuno dei coniugi è tenuto a rimborsare all...</td>\n",
       "      <td>SI</td>\n",
       "    </tr>\n",
       "    <tr>\n",
       "      <th>503</th>\n",
       "      <td>Art. 192 Rimborsi e restituzioni</td>\n",
       "      <td>8. Qual è l'ordine di prelievo dei beni comuni...</td>\n",
       "      <td>Ciascuno dei coniugi è tenuto a rimborsare all...</td>\n",
       "      <td>SI</td>\n",
       "    </tr>\n",
       "    <tr>\n",
       "      <th>504</th>\n",
       "      <td>Art. 193 Separazione giudiziale dei beni</td>\n",
       "      <td>1. In quali casi può essere pronunziata la sep...</td>\n",
       "      <td>La separazione giudiziale dei beni può essere ...</td>\n",
       "      <td>SI</td>\n",
       "    </tr>\n",
       "    <tr>\n",
       "      <th>...</th>\n",
       "      <td>...</td>\n",
       "      <td>...</td>\n",
       "      <td>...</td>\n",
       "      <td>...</td>\n",
       "    </tr>\n",
       "    <tr>\n",
       "      <th>1110</th>\n",
       "      <td>Art. 451 Forza probatoria degli atti</td>\n",
       "      <td>3. Che valore hanno le indicazioni estranee al...</td>\n",
       "      <td>Gli atti dello stato civile fanno prova, fino ...</td>\n",
       "      <td>SI</td>\n",
       "    </tr>\n",
       "    <tr>\n",
       "      <th>1111</th>\n",
       "      <td>Art. 452 Mancanza, distruzione o smarrimento d...</td>\n",
       "      <td>1. Quali sono le condizioni che permettono di ...</td>\n",
       "      <td>Se non si sono tenuti i registri o sono andati...</td>\n",
       "      <td>NO</td>\n",
       "    </tr>\n",
       "    <tr>\n",
       "      <th>1112</th>\n",
       "      <td>Art. 452 Mancanza, distruzione o smarrimento d...</td>\n",
       "      <td>2. Cosa accade se la mancanza, distruzione, al...</td>\n",
       "      <td>Se non si sono tenuti i registri o sono andati...</td>\n",
       "      <td>SI</td>\n",
       "    </tr>\n",
       "    <tr>\n",
       "      <th>1113</th>\n",
       "      <td>Art. 453 Annotazioni</td>\n",
       "      <td>1. Quali sono le condizioni che permettono di ...</td>\n",
       "      <td>Nessuna annotazione può essere fatta sopra un ...</td>\n",
       "      <td>SI</td>\n",
       "    </tr>\n",
       "    <tr>\n",
       "      <th>1114</th>\n",
       "      <td>Art. 455 Efficacia della sentenza di rettifica...</td>\n",
       "      <td>1. A chi non può essere opposta la sentenza di...</td>\n",
       "      <td>La sentenza di rettificazione non può essere o...</td>\n",
       "      <td>SI</td>\n",
       "    </tr>\n",
       "  </tbody>\n",
       "</table>\n",
       "<p>615 rows × 4 columns</p>\n",
       "</div>"
      ],
      "text/plain": [
       "                                Articolo di riferimento  \\\n",
       "500                    Art. 192 Rimborsi e restituzioni   \n",
       "501                    Art. 192 Rimborsi e restituzioni   \n",
       "502                    Art. 192 Rimborsi e restituzioni   \n",
       "503                    Art. 192 Rimborsi e restituzioni   \n",
       "504            Art. 193 Separazione giudiziale dei beni   \n",
       "...                                                 ...   \n",
       "1110               Art. 451 Forza probatoria degli atti   \n",
       "1111  Art. 452 Mancanza, distruzione o smarrimento d...   \n",
       "1112  Art. 452 Mancanza, distruzione o smarrimento d...   \n",
       "1113                               Art. 453 Annotazioni   \n",
       "1114  Art. 455 Efficacia della sentenza di rettifica...   \n",
       "\n",
       "                                                  Query  \\\n",
       "500   5. In quale momento si effettuano i rimborsi e...   \n",
       "501   6. In quali circostanze il giudice può autoriz...   \n",
       "502   7. Quali beni può prelevare il coniuge credito...   \n",
       "503   8. Qual è l'ordine di prelievo dei beni comuni...   \n",
       "504   1. In quali casi può essere pronunziata la sep...   \n",
       "...                                                 ...   \n",
       "1110  3. Che valore hanno le indicazioni estranee al...   \n",
       "1111  1. Quali sono le condizioni che permettono di ...   \n",
       "1112  2. Cosa accade se la mancanza, distruzione, al...   \n",
       "1113  1. Quali sono le condizioni che permettono di ...   \n",
       "1114  1. A chi non può essere opposta la sentenza di...   \n",
       "\n",
       "                                                Passage IsQueryRelevant  \n",
       "500   Ciascuno dei coniugi è tenuto a rimborsare all...              SI  \n",
       "501   Ciascuno dei coniugi è tenuto a rimborsare all...              SI  \n",
       "502   Ciascuno dei coniugi è tenuto a rimborsare all...              SI  \n",
       "503   Ciascuno dei coniugi è tenuto a rimborsare all...              SI  \n",
       "504   La separazione giudiziale dei beni può essere ...              SI  \n",
       "...                                                 ...             ...  \n",
       "1110  Gli atti dello stato civile fanno prova, fino ...              SI  \n",
       "1111  Se non si sono tenuti i registri o sono andati...              NO  \n",
       "1112  Se non si sono tenuti i registri o sono andati...              SI  \n",
       "1113  Nessuna annotazione può essere fatta sopra un ...              SI  \n",
       "1114  La sentenza di rettificazione non può essere o...              SI  \n",
       "\n",
       "[615 rows x 4 columns]"
      ]
     },
     "execution_count": 35,
     "metadata": {},
     "output_type": "execute_result"
    }
   ],
   "source": [
    "evaluate_df = data2evaluate.iloc[500:, :]\n",
    "evaluate_df[\"IsQueryRelevant\"] = answ2\n",
    "evaluate_df"
   ]
  },
  {
   "cell_type": "code",
   "execution_count": 36,
   "metadata": {},
   "outputs": [
    {
     "data": {
      "text/plain": [
       "(1115, 4)"
      ]
     },
     "execution_count": 36,
     "metadata": {},
     "output_type": "execute_result"
    }
   ],
   "source": [
    "first_500_df = pd.read_csv(\"evaluation_df_book1_trial500q.tsv\", sep = \"\\t\", index_col = False).drop(\"Unnamed: 0\", axis = 1)\n",
    "\n",
    "\n",
    "whole_df = pd.concat([first_500_df, evaluate_df], axis = 0)\n",
    "\n",
    "whole_df.shape"
   ]
  },
  {
   "cell_type": "code",
   "execution_count": 37,
   "metadata": {},
   "outputs": [],
   "source": [
    "whole_df.to_csv(\"evaluate_df_book1_complete.tsv\", sep = \"\\t\")"
   ]
  },
  {
   "cell_type": "code",
   "execution_count": 38,
   "metadata": {},
   "outputs": [
    {
     "data": {
      "text/plain": [
       "Counter({'SI': 882, 'NO': 233})"
      ]
     },
     "execution_count": 38,
     "metadata": {},
     "output_type": "execute_result"
    }
   ],
   "source": [
    "Counter(whole_df[\"IsQueryRelevant\"].tolist())"
   ]
  },
  {
   "cell_type": "code",
   "execution_count": 40,
   "metadata": {},
   "outputs": [
    {
     "data": {
      "text/plain": [
       "0.7910313901345292"
      ]
     },
     "execution_count": 40,
     "metadata": {},
     "output_type": "execute_result"
    }
   ],
   "source": [
    "882/1115"
   ]
  },
  {
   "cell_type": "code",
   "execution_count": 1,
   "metadata": {},
   "outputs": [],
   "source": [
    "import pickle\n",
    "with open(\"../qa_results/all_dfs.pkl\", \"rb\") as infile:\n",
    "    dfs = pickle.load(infile)"
   ]
  },
  {
   "cell_type": "code",
   "execution_count": 2,
   "metadata": {},
   "outputs": [
    {
     "name": "stdout",
     "output_type": "stream",
     "text": [
      "(873, 3)\n",
      "(1818, 3)\n",
      "(3918, 3)\n",
      "(6051, 3)\n",
      "(6944, 3)\n"
     ]
    }
   ],
   "source": [
    "for d in dfs:\n",
    "    print(d.shape)"
   ]
  },
  {
   "cell_type": "code",
   "execution_count": 16,
   "metadata": {},
   "outputs": [],
   "source": [
    "import json\n",
    "data = json.load(open(\"../data/cc_books_clean_whole2_nonum.json\", \"r\"))\n",
    "cc_book = data[\"cc_libro_II\"]\n",
    "assert len(dfs[0][\"Articolo di riferimento\"].unique()) == len(cc_book), \"Number of unique articles does not match number of inputs\""
   ]
  },
  {
   "cell_type": "code",
   "execution_count": 17,
   "metadata": {},
   "outputs": [
    {
     "data": {
      "text/plain": [
       "345"
      ]
     },
     "execution_count": 17,
     "metadata": {},
     "output_type": "execute_result"
    }
   ],
   "source": [
    "len(cc_book)"
   ]
  }
 ],
 "metadata": {
  "kernelspec": {
   "display_name": "cc_dataset",
   "language": "python",
   "name": "python3"
  },
  "language_info": {
   "codemirror_mode": {
    "name": "ipython",
    "version": 3
   },
   "file_extension": ".py",
   "mimetype": "text/x-python",
   "name": "python",
   "nbconvert_exporter": "python",
   "pygments_lexer": "ipython3",
   "version": "3.12.4"
  }
 },
 "nbformat": 4,
 "nbformat_minor": 2
}
